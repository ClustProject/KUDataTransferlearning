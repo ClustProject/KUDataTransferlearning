{
 "cells": [
  {
   "cell_type": "code",
   "execution_count": 1,
   "id": "be126e15-420e-495b-a536-611e540889e0",
   "metadata": {},
   "outputs": [],
   "source": [
    "import config\n",
    "import utils\n",
    "import torch.nn as nn\n",
    "\n",
    "import torch\n",
    "import pickle\n",
    "import random\n",
    "import pandas as pd\n",
    "import numpy as np\n",
    "from sklearn.model_selection import train_test_split\n",
    "\n",
    "import os\n",
    "import config\n",
    "import utils\n",
    "import main_transfer as mt"
   ]
  },
  {
   "cell_type": "code",
   "execution_count": 2,
   "id": "2fa58d50-227d-41a5-8e61-7f1dd2302618",
   "metadata": {},
   "outputs": [],
   "source": [
    "TARGET_DATASET = 'ScreenType'\n",
    "\n",
    "data_root_dir = f'./data/{TARGET_DATASET}/'"
   ]
  },
  {
   "cell_type": "code",
   "execution_count": 3,
   "id": "cb5f33da-7349-425b-9fbd-52ce781818ca",
   "metadata": {},
   "outputs": [
    {
     "name": "stdout",
     "output_type": "stream",
     "text": [
      "(375, 1, 720)\n",
      "(375,)\n",
      "(375, 1, 720)\n",
      "(375,)\n",
      "inputSize(train_x.shape[1]): 1\n",
      "sequenceLenth (train_x.shape[2]): 720\n"
     ]
    },
    {
     "data": {
      "text/plain": [
       "3"
      ]
     },
     "execution_count": 3,
     "metadata": {},
     "output_type": "execute_result"
    }
   ],
   "source": [
    "train_x, train_y, test_x, test_y = utils.load_data(data_root_dir, model_name='LSTM_FCNs')  # shape=(num_of_instance, input_dims, time_steps)\n",
    "        \n",
    "split_ratio = 0.2\n",
    "train_x, valid_x, train_y, valid_y = train_test_split(train_x, train_y, test_size=split_ratio, shuffle=True)\n",
    "\n",
    "input_size = train_x.shape[1]\n",
    "num_classes = len(np.unique(train_y))\n",
    "\n",
    "num_classes"
   ]
  },
  {
   "cell_type": "code",
   "execution_count": 4,
   "id": "8cb31744-87dc-4019-9761-ee5836d85d44",
   "metadata": {},
   "outputs": [],
   "source": [
    "# normalization\n",
    "scaler_x_path = f'./scaler/{TARGET_DATASET}/minmax_scaler_x.pkl'\n",
    "test_x, x_scaler = utils.get_test_data(test_x, scaler_x_path)"
   ]
  },
  {
   "cell_type": "code",
   "execution_count": 5,
   "id": "e0b28280-0008-45d4-b322-2750059b90fc",
   "metadata": {},
   "outputs": [],
   "source": [
    "model_name = 'LSTM_FCNs'\n",
    "model_params = config.model_config[model_name]\n",
    "\n",
    "model_params['parameter']['input_size'] = input_size\n",
    "model_params['parameter']['num_classes'] = num_classes\n",
    "model_params['best_model_path'] = f'./ckpt/{TARGET_DATASET}/lstm_fcn_self.pt'"
   ]
  },
  {
   "cell_type": "code",
   "execution_count": 6,
   "id": "f22be687-f95e-44bd-b4fd-8412f37974ea",
   "metadata": {},
   "outputs": [],
   "source": [
    "data_target = mt.Transferlearning(model_params,'self') "
   ]
  },
  {
   "cell_type": "code",
   "execution_count": 7,
   "id": "bb59e01e-f1bd-49c9-9168-c01f623cdf1d",
   "metadata": {},
   "outputs": [
    {
     "name": "stdout",
     "output_type": "stream",
     "text": [
      "Set start class as zero\n",
      "Set start class as zero\n"
     ]
    }
   ],
   "source": [
    "pred, acc = data_target.pred_data(test_x, test_y,best_model_path=f'./ckpt/{TARGET_DATASET}/lstm_fcn_self.pt')"
   ]
  },
  {
   "cell_type": "code",
   "execution_count": 8,
   "id": "11dec681-4535-49cf-862f-3111c0f6c4c4",
   "metadata": {},
   "outputs": [
    {
     "name": "stdout",
     "output_type": "stream",
     "text": [
      "---self model---\n",
      "** Performance of test dataset ==> Acc = 0.536\n",
      "** Dimension of result for test dataset = (375, 2)\n",
      "   actual_value  predicted_value\n",
      "0             0                0\n",
      "1             0                0\n",
      "2             0                0\n",
      "3             0                0\n",
      "4             0                0\n"
     ]
    }
   ],
   "source": [
    "# Case 4. LSTM_FCNs (w/o data representation)\n",
    "\n",
    "# 예측 결과 확인\n",
    "print(f'---self model---')\n",
    "print(f'** Performance of test dataset ==> Acc = {acc}')\n",
    "print(f'** Dimension of result for test dataset = {pred.shape}')\n",
    "print(pred.head())"
   ]
  },
  {
   "cell_type": "code",
   "execution_count": 9,
   "id": "4d6cc65f-ec8a-435c-b2bb-fa995af1baed",
   "metadata": {},
   "outputs": [
    {
     "name": "stdout",
     "output_type": "stream",
     "text": [
      "Set start class as zero\n",
      "Set start class as zero\n"
     ]
    }
   ],
   "source": [
    "data_target_transfer = mt.Transferlearning(model_params,'self') \n",
    "pred, acc = data_target_transfer.pred_data(test_x, test_y,best_model_path=f'./ckpt/{TARGET_DATASET}/lstm_fcn_transfer.pt')"
   ]
  },
  {
   "cell_type": "code",
   "execution_count": 10,
   "id": "22147bc4-55bc-47c9-a164-c0cbc73aa389",
   "metadata": {},
   "outputs": [
    {
     "name": "stdout",
     "output_type": "stream",
     "text": [
      "---transfer model---\n",
      "** Performance of test dataset ==> Acc = 0.576\n",
      "** Dimension of result for test dataset = (375, 2)\n",
      "   actual_value  predicted_value\n",
      "0             0                0\n",
      "1             0                0\n",
      "2             0                0\n",
      "3             0                0\n",
      "4             0                0\n"
     ]
    }
   ],
   "source": [
    "# Case 4. LSTM_FCNs (w/o data representation)\n",
    "\n",
    "# 예측 결과 확인\n",
    "print(f'---transfer model---')\n",
    "print(f'** Performance of test dataset ==> Acc = {acc}')\n",
    "print(f'** Dimension of result for test dataset = {pred.shape}')\n",
    "print(pred.head())"
   ]
  },
  {
   "cell_type": "code",
   "execution_count": null,
   "id": "e952d4b4-dd4f-4be1-b8fd-a5476ee44675",
   "metadata": {},
   "outputs": [],
   "source": []
  }
 ],
 "metadata": {
  "kernelspec": {
   "display_name": "Python 3 (ipykernel)",
   "language": "python",
   "name": "python3"
  },
  "language_info": {
   "codemirror_mode": {
    "name": "ipython",
    "version": 3
   },
   "file_extension": ".py",
   "mimetype": "text/x-python",
   "name": "python",
   "nbconvert_exporter": "python",
   "pygments_lexer": "ipython3",
   "version": "3.8.16"
  }
 },
 "nbformat": 4,
 "nbformat_minor": 5
}
