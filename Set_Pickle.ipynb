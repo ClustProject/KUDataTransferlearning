{
 "cells": [
  {
   "cell_type": "code",
   "execution_count": 1,
   "id": "2048ab20-d34f-4654-8b3c-16e62a4cfdf6",
   "metadata": {},
   "outputs": [],
   "source": [
    "import pandas as pd\n",
    "import numpy as np\n",
    "from scipy.io.arff import loadarff\n",
    "import pickle\n",
    "\n",
    "DATASET = 'Computers'\n",
    "\n",
    "train = loadarff(f\"./data/{DATASET}/{DATASET}_TRAIN.arff\")\n",
    "test = loadarff(f\"./data/{DATASET}/{DATASET}_TEST.arff\")\n",
    "\n",
    "data_train = np.asarray([train[0][name] for name in train[1].names()])\n",
    "X_train = data_train[:-1].T.astype('float64')\n",
    "y_train = data_train[-1]\n",
    "\n",
    "data_test = np.asarray([test[0][name] for name in test[1].names()])\n",
    "X_test = data_test[:-1].T.astype('float64')\n",
    "y_test = data_test[-1]\n",
    "\n",
    "try:\n",
    "    y_train = y_train.astype('float64').astype('int64')\n",
    "    y_test = y_test.astype('float64').astype('int64')\n",
    "except ValueError:\n",
    "    y_train = y_train.astype(str)\n",
    "    y_test = y_test.astype(str)\n",
    "\n",
    "y_train \n",
    "y_test\n",
    "\n",
    "X_train = X_train[:, np.newaxis,:]\n",
    "X_test = X_test[:, np.newaxis,:]\n",
    "\n",
    "with open(f'./data/{DATASET}/x_train.pkl', 'wb') as f:\n",
    "    pickle.dump(X_train, f, pickle.HIGHEST_PROTOCOL)\n",
    "\n",
    "with open(f'./data/{DATASET}/x_test.pkl', 'wb') as f:\n",
    "    pickle.dump(X_test, f, pickle.HIGHEST_PROTOCOL)\n",
    "    \n",
    "with open(f'./data/{DATASET}/y_train.pkl', 'wb') as f:\n",
    "    pickle.dump(y_train, f, pickle.HIGHEST_PROTOCOL)\n",
    "        \n",
    "with open(f'./data/{DATASET}/y_test.pkl', 'wb') as f:\n",
    "    pickle.dump(y_test, f, pickle.HIGHEST_PROTOCOL)\n",
    "\n"
   ]
  },
  {
   "cell_type": "code",
   "execution_count": null,
   "id": "224e89c7-a501-46eb-aa0f-016166e2e339",
   "metadata": {},
   "outputs": [],
   "source": []
  }
 ],
 "metadata": {
  "kernelspec": {
   "display_name": "Python 3 (ipykernel)",
   "language": "python",
   "name": "python3"
  },
  "language_info": {
   "codemirror_mode": {
    "name": "ipython",
    "version": 3
   },
   "file_extension": ".py",
   "mimetype": "text/x-python",
   "name": "python",
   "nbconvert_exporter": "python",
   "pygments_lexer": "ipython3",
   "version": "3.8.16"
  }
 },
 "nbformat": 4,
 "nbformat_minor": 5
}
